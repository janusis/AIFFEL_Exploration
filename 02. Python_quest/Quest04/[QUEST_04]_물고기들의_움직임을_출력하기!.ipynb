{
  "nbformat": 4,
  "nbformat_minor": 0,
  "metadata": {
    "colab": {
      "provenance": [],
      "authorship_tag": "ABX9TyOy5xbhnnQIF5Vi15Caxywo",
      "include_colab_link": true
    },
    "kernelspec": {
      "name": "python3",
      "display_name": "Python 3"
    },
    "language_info": {
      "name": "python"
    }
  },
  "cells": [
    {
      "cell_type": "markdown",
      "metadata": {
        "id": "view-in-github",
        "colab_type": "text"
      },
      "source": [
        "<a href=\"https://colab.research.google.com/github/janusis/AIFFEL_Exploration/blob/main/Python_quest/Quest04/%5BQUEST_04%5D_%EB%AC%BC%EA%B3%A0%EA%B8%B0%EB%93%A4%EC%9D%98_%EC%9B%80%EC%A7%81%EC%9E%84%EC%9D%84_%EC%B6%9C%EB%A0%A5%ED%95%98%EA%B8%B0!.ipynb\" target=\"_parent\"><img src=\"https://colab.research.google.com/assets/colab-badge.svg\" alt=\"Open In Colab\"/></a>"
      ]
    },
    {
      "cell_type": "markdown",
      "source": [
        "[QUEST 04] 물고기들의 움직임을 출력하기!\n",
        "\n",
        "```\n",
        "다음 조건을 활용하여 물고기가 물 속에서 움직이는 것을 출력해보자!\n",
        "\n",
        " 조건\n",
        "아래 물고기 리스트를 입력값으로 넣었을때 물고기의 움직임을 출력값으로 뱉어내도록 만들어봅시다.\n",
        " 물고기의 움직임을 출력하는 함수 2개(컴프리헨션, 제너레이터)를 만듭니다.\n",
        "컴프리헨션 함수에는 이름, 속도를 조합하고 제너레이터 함수에는 for문과 yield문를 활용합니다.\n",
        "물고기 리스트를 입력받으면, 2개의 함수는 물고기 이름과, 속도를 출력해야 합니다.\n",
        "```\n",
        "\n",
        "\n",
        "```\n",
        "출력 예시\n",
        "===\n",
        "입력값 :\n",
        "\n",
        "# 물고기 리스트 생성\n",
        "fish_list = [\n",
        " {\"이름\": \"Nemo\", \"speed\": 3},\n",
        "{\"이름\": \"Dory\", \"speed\": 5},\n",
        "]\n",
        "print(\"Using Comprehension:\") show_fish_movement_comprehension(fish_list) print(\"Using Generator:\") show_fish_movement_Generator(fish_list)\n",
        "\n",
        "출력값 :\n",
        "Using Comprehension:\n",
        "Nemo is swimming at 3 m/s\n",
        "Dory is swimming at 5 m/s\n",
        "Using Generator:\n",
        "Nemo is swimming at 3 m/s\n",
        "Dory is swimming at 5 m/s\n",
        "```"
      ],
      "metadata": {
        "id": "oBwHJCkLnu8a"
      }
    },
    {
      "cell_type": "markdown",
      "source": [
        "[회고]\n",
        "*   배운점 : 직접 짠 코드가 아니더라도 코드를 읽고 수정하는 부분은 조금씩 느는 것 같다.\n",
        "*   아쉬운점 : 순수 개인의 능력으로 코딩을 하는 것은 아직 많이 부족한 것 같다.\n",
        "*   느낀점 : 코드 생성 시에 검색 등의 도움을 받더라도 검토하면서 좀 더 깔끔하게 다듬을 수 있어서 좀 더 많이 알게되면 효율적인 코딩이 가능할 것 같다.\n",
        "\n"
      ],
      "metadata": {
        "id": "5QTAad_ameOT"
      }
    },
    {
      "cell_type": "markdown",
      "source": [
        "[{\"이름\": \"Nemo\", \"speed\": 3}, {\"이름\": \"Dory\", \"speed\": 5}]\n",
        "\n",
        "위 형식으로 데이터 입력"
      ],
      "metadata": {
        "id": "yDJ_1nsUljwc"
      }
    },
    {
      "cell_type": "code",
      "source": [
        "import json\n",
        "\n",
        "# 컴프리헨션 함수\n",
        "def show_fish_movement_comprehension(fish_list):\n",
        "    movement_info = [f\"{fish['이름']} is swimming at {fish['speed']} m/s\" for fish in fish_list]\n",
        "    for info in movement_info:\n",
        "        print(info)\n",
        "\n",
        "# 제너레이터 함수\n",
        "def show_fish_movement_generator(fish_list):\n",
        "    for fish in fish_list:\n",
        "        yield f\"{fish['이름']} is swimming at {fish['speed']} m/s\"\n",
        "\n",
        "\n",
        "fish_list = []\n",
        "print(\"=\"*3)\n",
        "\n",
        "# 사용자로부터 물고기 리스트 입력 받기\n",
        "try:\n",
        "  # JSON 문자열을 파이썬 리스트로 파싱하여 value 변수에 저장\n",
        "  fish_data = input(\"입력값(리스트 형식): \\n\")\n",
        "  fish_list = json.loads(fish_data)\n",
        "  print(\"\\n# 물고기 리스트 생성\\n\",fish_list)\n",
        "except:\n",
        "  print(\"입력값이 리스트 형식이 아니거나 잘못되었습니다.\")\n",
        "else:\n",
        "  print(\"\\n출력값:\")\n",
        "  print(\"Using Comprehension:\")\n",
        "  show_fish_movement_comprehension(fish_list)\n",
        "  print(\"Using Generator:\")\n",
        "  for info in show_fish_movement_generator(fish_list):\n",
        "      print(info)"
      ],
      "metadata": {
        "colab": {
          "base_uri": "https://localhost:8080/"
        },
        "id": "KsSJKsRXgHSE",
        "outputId": "b23a5947-ef19-42a9-c4c2-d1ad53de73dd"
      },
      "execution_count": 3,
      "outputs": [
        {
          "output_type": "stream",
          "name": "stdout",
          "text": [
            "===\n",
            "입력값(리스트 형식): \n",
            "[{\"이름\": \"Nemo\", \"speed\": 3}, {\"이름\": \"Dory\", \"speed\": 5}]\n",
            "# 물고기 리스트 생성\n",
            " [{'이름': 'Nemo', 'speed': 3}, {'이름': 'Dory', 'speed': 5}]\n",
            "\n",
            "출력값:\n",
            "Using Comprehension:\n",
            "Nemo is swimming at 3 m/s\n",
            "Dory is swimming at 5 m/s\n",
            "Using Generator:\n",
            "Nemo is swimming at 3 m/s\n",
            "Dory is swimming at 5 m/s\n"
          ]
        }
      ]
    }
  ]
}