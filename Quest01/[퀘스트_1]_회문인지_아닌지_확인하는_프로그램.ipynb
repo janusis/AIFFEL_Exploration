{
  "nbformat": 4,
  "nbformat_minor": 0,
  "metadata": {
    "colab": {
      "provenance": [],
      "include_colab_link": true
    },
    "kernelspec": {
      "name": "python3",
      "display_name": "Python 3"
    },
    "language_info": {
      "name": "python"
    }
  },
  "cells": [
    {
      "cell_type": "markdown",
      "metadata": {
        "id": "view-in-github",
        "colab_type": "text"
      },
      "source": [
        "<a href=\"https://colab.research.google.com/github/janusis/AIFFEL_Exploration/blob/main/Quest01/%5B%ED%80%98%EC%8A%A4%ED%8A%B8_1%5D_%ED%9A%8C%EB%AC%B8%EC%9D%B8%EC%A7%80_%EC%95%84%EB%8B%8C%EC%A7%80_%ED%99%95%EC%9D%B8%ED%95%98%EB%8A%94_%ED%94%84%EB%A1%9C%EA%B7%B8%EB%9E%A8.ipynb\" target=\"_parent\"><img src=\"https://colab.research.google.com/assets/colab-badge.svg\" alt=\"Open In Colab\"/></a>"
      ]
    },
    {
      "cell_type": "code",
      "execution_count": null,
      "metadata": {
        "colab": {
          "base_uri": "https://localhost:8080/"
        },
        "id": "qfXBqLg-DDDN",
        "outputId": "55941d33-2de9-4375-e00e-53bfe7131ac5"
      },
      "outputs": [
        {
          "output_type": "stream",
          "name": "stdout",
          "text": [
            "출력 예시\n",
            "===\n",
            "입력값:  \n",
            "우성우\n",
            "\n",
            "출력값 : \n",
            "뒤집힌 단어는:  우성우\n",
            "입력된 단어는 회문입니다.\n"
          ]
        }
      ],
      "source": [
        "# 회문인지 아닌지 확인하는 프로그램\n",
        "\n",
        "# 주어진 텍스트의 뒤집는다.\n",
        "def reverse_text(text):\n",
        "  # 텍스트의 길이를 구한다.\n",
        "  text_len = len(text)\n",
        "\n",
        "  # 텍스트 스트링를 리스트로 변환한다.\n",
        "  # (스트링은 특정 인덱스의 텍스트 업데이트가 안됨)\n",
        "  text_list = list(text)\n",
        "\n",
        "  # 리스트를 뒤집는다.\n",
        "  for i in range(int(text_len / 2)):\n",
        "    text_list[i], text_list[- (i + 1)] = text_list[- (i + 1)], text_list[i]\n",
        "\n",
        "  # 리스트를 다시 스트링으로 변환\n",
        "  reversed_text = \"\"\n",
        "  for c in text_list:\n",
        "      reversed_text += c\n",
        "\n",
        "  return reversed_text\n",
        "\n",
        "\n",
        "print(\"출력 예시\")\n",
        "print(\"=\"*3)\n",
        "text = str(input(('입력값:  \\n')))\n",
        "print(\"\\n출력값 : \")\n",
        "\n",
        "reversed_text = reverse_text(text)\n",
        "\n",
        "print(\"뒤집힌 단어는: \", reversed_text)\n",
        "if text == reversed_text:\n",
        "  print(\"입력된 단어는 회문입니다.\")\n",
        "else:\n",
        "  print(\"입력된 단어는 회문이 아닙니다.\")\n"
      ]
    },
    {
      "cell_type": "code",
      "source": [],
      "metadata": {
        "id": "HGv13UviZZf6"
      },
      "execution_count": null,
      "outputs": []
    }
  ]
}